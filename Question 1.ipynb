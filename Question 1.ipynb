{
 "cells": [
  {
   "cell_type": "markdown",
   "metadata": {},
   "source": [
    "## Question 1"
   ]
  },
  {
   "cell_type": "code",
   "execution_count": 11,
   "metadata": {},
   "outputs": [],
   "source": [
    "import numpy as np\n",
    "import matplotlib.pyplot as plt\n",
    "import sympy as sym\n",
    "from sympy import nsimplify"
   ]
  },
  {
   "cell_type": "markdown",
   "metadata": {},
   "source": [
    "## Part A"
   ]
  },
  {
   "cell_type": "code",
   "execution_count": 3,
   "metadata": {},
   "outputs": [
    {
     "data": {
      "image/png": "[encoded data removed]",
      "text/plain": [
       "<Figure size 640x480 with 1 Axes>"
      ]
     },
     "metadata": {},
     "output_type": "display_data"
    }
   ],
   "source": [
    "# Defining the Domain\n",
    "x_vals = np.arange(-2*np.pi, 2*np.pi, 0.11)\n",
    "period = 2*np.pi\n",
    "\n",
    "def func(x, b, f):\n",
    "    y = 0\n",
    "    if b <= x and 0 >= x:\n",
    "        y = (x**2) - 1\n",
    "    elif 0 <= x and f >= x:\n",
    "        y = x * np.exp((-1/2)*x)\n",
    "    if b > x:\n",
    "        x_new = x + period\n",
    "        y = func(x_new, b, f)\n",
    "    elif f < x:\n",
    "        x_new = x - period\n",
    "        y = func(x_new, b, f)\n",
    "    return y\n",
    "\n",
    "\n",
    "\n",
    "y_vals = [func(i, -np.pi, np.pi) for i in x_vals]\n",
    "\n",
    "plt.plot(x_vals, y_vals)\n",
    "plt.show()"
   ]
  },
  {
   "cell_type": "markdown",
   "metadata": {},
   "source": [
    "## Part B"
   ]
  },
  {
   "cell_type": "code",
   "execution_count": 5,
   "metadata": {},
   "outputs": [],
   "source": [
    "x = sym.symbols('x')\n",
    "n = sym.symbols('n',integer = 'True', positive = 'True')\n",
    "\n",
    "ms = np.empty(500, dtype=object)\n",
    "xrange = np.linspace(2*np.pi,-2*np.pi,100)\n",
    "y = np.zeros([501,100])\n",
    "\n",
    "eq1 = (x**2) - 1\n",
    "eq2 = x * (sym.exp(-0.5*x))"
   ]
  },
  {
   "cell_type": "markdown",
   "metadata": {},
   "source": [
    "$$a_0 = \\frac{1}{\\pi} \\int_{-\\pi}^{\\pi} f(x) \\,dx$$\n",
    "$$a_0 = \\frac{1}{\\pi} \\left( \\int_{-\\pi}^{0} (x^2 - 1) \\,dx + \\int_{0}^{\\pi} x e^{-\\frac{x}{2}} \\,dx \\right)$$"
   ]
  },
  {
   "cell_type": "code",
   "execution_count": 6,
   "metadata": {},
   "outputs": [
    {
     "data": {
      "text/latex": [
       "$\\displaystyle \\frac{- \\pi + \\frac{1.0 \\left(- 2.0 \\pi - 4.0\\right)}{e^{0.5 \\pi}} + 4.0 + \\frac{\\pi^{3}}{3}}{\\pi}$"
      ],
      "text/plain": [
       "(-pi + 1.0*(-2.0*pi - 4.0)*exp(-0.5*pi) + 4.0 + pi**3/3)/pi"
      ]
     },
     "execution_count": 6,
     "metadata": {},
     "output_type": "execute_result"
    }
   ],
   "source": [
    "a0 = (1/(sym.pi)) * (eq1.integrate((x, -sym.pi, 0)) + eq2.integrate((x, 0, sym.pi)))\n",
    "a0"
   ]
  },
  {
   "cell_type": "markdown",
   "metadata": {},
   "source": [
    "$$a_n = \\frac{1}{\\pi} \\left( \\int_{-\\pi}^{0} (x^2 - 1) \\cos(n x) \\,dx + \\int_{0}^{\\pi} (x e^{-\\frac{x}{2}}) \\cos(n x) \\,dx \\right)$$\n"
   ]
  },
  {
   "cell_type": "code",
   "execution_count": 12,
   "metadata": {},
   "outputs": [
    {
     "data": {
      "text/latex": [
       "$\\displaystyle \\frac{- \\frac{\\left(-1\\right)^{n} \\pi n^{2}}{512 \\left(\\frac{n^{4} e^{\\frac{\\pi}{2}}}{256} + \\frac{n^{2} e^{\\frac{\\pi}{2}}}{512} + \\frac{e^{\\frac{\\pi}{2}}}{4096}\\right)} + \\frac{\\left(-1\\right)^{n} n^{2}}{256 \\left(\\frac{n^{4} e^{\\frac{\\pi}{2}}}{256} + \\frac{n^{2} e^{\\frac{\\pi}{2}}}{512} + \\frac{e^{\\frac{\\pi}{2}}}{4096}\\right)} - \\frac{\\left(-1\\right)^{n} \\pi}{2048 \\left(\\frac{n^{4} e^{\\frac{\\pi}{2}}}{256} + \\frac{n^{2} e^{\\frac{\\pi}{2}}}{512} + \\frac{e^{\\frac{\\pi}{2}}}{4096}\\right)} - \\frac{\\left(-1\\right)^{n}}{1024 \\left(\\frac{n^{4} e^{\\frac{\\pi}{2}}}{256} + \\frac{n^{2} e^{\\frac{\\pi}{2}}}{512} + \\frac{e^{\\frac{\\pi}{2}}}{4096}\\right)} + \\frac{2 \\left(-1\\right)^{n} \\pi}{n^{2}} - \\frac{n^{2}}{256 \\left(\\frac{n^{4}}{256} + \\frac{n^{2}}{512} + \\frac{1}{4096}\\right)} + \\frac{1}{1024 \\left(\\frac{n^{4}}{256} + \\frac{n^{2}}{512} + \\frac{1}{4096}\\right)}}{\\pi}$"
      ],
      "text/plain": [
       "(-(-1)**n*pi*n**2/(512*(n**4*exp(pi/2)/256 + n**2*exp(pi/2)/512 + exp(pi/2)/4096)) + (-1)**n*n**2/(256*(n**4*exp(pi/2)/256 + n**2*exp(pi/2)/512 + exp(pi/2)/4096)) - (-1)**n*pi/(2048*(n**4*exp(pi/2)/256 + n**2*exp(pi/2)/512 + exp(pi/2)/4096)) - (-1)**n/(1024*(n**4*exp(pi/2)/256 + n**2*exp(pi/2)/512 + exp(pi/2)/4096)) + 2*(-1)**n*pi/n**2 - n**2/(256*(n**4/256 + n**2/512 + 1/4096)) + 1/(1024*(n**4/256 + n**2/512 + 1/4096)))/pi"
      ]
     },
     "execution_count": 12,
     "metadata": {},
     "output_type": "execute_result"
    }
   ],
   "source": [
    "an = (1/sym.pi) * (sym.integrate((eq1 * sym.cos(n * x)), (x, -sym.pi, 0)) + sym.integrate((eq2 * sym.cos(n * x)), (x, 0, sym.pi)))\n",
    "an\n",
    "nsimplify(an)"
   ]
  }
 ],
 "metadata": {
  "kernelspec": {
   "display_name": "Python 3",
   "language": "python",
   "name": "python3"
  },
  "language_info": {
   "codemirror_mode": {
    "name": "ipython",
    "version": 3
   },
   "file_extension": ".py",
   "mimetype": "text/x-python",
   "name": "python",
   "nbconvert_exporter": "python",
   "pygments_lexer": "ipython3",
   "version": "3.12.0"
  }
 },
 "nbformat": 4,
 "nbformat_minor": 2
}
